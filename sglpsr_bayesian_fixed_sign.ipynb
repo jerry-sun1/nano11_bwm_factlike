{
 "cells": [
  {
   "cell_type": "code",
   "execution_count": 2,
   "id": "01b70c86",
   "metadata": {},
   "outputs": [],
   "source": [
    "from __future__ import division\n",
    "\n",
    "import numpy as np\n",
    "import os, glob, json\n",
    "import matplotlib.pyplot as plt\n",
    "import pickle\n",
    "import scipy.linalg as sl\n",
    "import healpy as hp\n",
    "import multiprocessing as mp\n",
    "\n",
    "from la_forge.core import Core\n",
    "from la_forge.diagnostics import plot_chains\n",
    "\n",
    "from enterprise.signals import parameter\n",
    "from enterprise.signals import signal_base\n",
    "from enterprise.signals import deterministic_signals\n",
    "from enterprise.signals import utils\n",
    "from enterprise.signals import gp_signals\n",
    "from enterprise import constants as const\n",
    "from enterprise.signals.signal_base import LogLikelihood\n",
    "\n",
    "from enterprise_extensions import models as ee_models\n",
    "from enterprise_extensions import model_utils as ee_model_utils\n",
    "from enterprise_extensions import sampler as ee_sampler\n",
    "from enterprise_extensions import blocks as ee_blocks\n",
    "from enterprise_extensions import deterministic as ee_deterministic\n",
    "\n",
    "from PTMCMCSampler.PTMCMCSampler import PTSampler as ptmcmc"
   ]
  },
  {
   "cell_type": "code",
   "execution_count": 4,
   "id": "1235dfe9",
   "metadata": {},
   "outputs": [],
   "source": [
    "nano11_pkl = '/home/nima/nanograv/11yr_factlike/NANOGrav_11yr_DE436.pickle'\n",
    "with open(nano11_pkl, 'rb') as f:\n",
    "    allpsrs=pickle.load(f)\n",
    "    \n",
    "noisefile = '/home/nima/nanograv/11yr_factlike/noisefiles/noisedict.json'\n",
    "with open(noisefile, 'rb') as f:\n",
    "    noisedict = json.load(f)\n",
    "    \n",
    "signs=[-1, 1]"
   ]
  },
  {
   "cell_type": "code",
   "execution_count": null,
   "id": "11a1957c",
   "metadata": {},
   "outputs": [
    {
     "name": "stdout",
     "output_type": "stream",
     "text": [
      "Here are the parameters of the pta: [B1855+09_ramp_log10_A:LinearExp(pmin=-17, pmax=-10), B1855+09_red_noise_gamma:Uniform(pmin=0, pmax=7), B1855+09_red_noise_log10_A:LinearExp(pmin=-17, pmax=-10), ramp_t0:Uniform(pmin=53538.72366848987, pmax=57195.72889084464)]\n",
      "Resuming run from chain file /home/nima/nanograv/11yr_factlike/bayesian_verification/individual_pulsars_fixed_sign/B1855+09_-1//chain_1.txt\n"
     ]
    },
    {
     "name": "stderr",
     "output_type": "stream",
     "text": [
      "/tmp/ipykernel_12544/3792533100.py:41: FutureWarning: arrays to stack must be passed as a \"sequence\" type such as list or tuple. Support for non-sequence iterables such as generators is deprecated as of NumPy 1.16 and will raise an error in the future.\n",
      "  x0 = np.hstack(p.sample() for p in pta.params)\n"
     ]
    },
    {
     "name": "stdout",
     "output_type": "stream",
     "text": [
      "Adding DE jump with weight 0\n",
      "Finished 99.00 percent in 1047.660962 s Acceptance rate = 0.242794\n",
      "Run Complete\n",
      "Here are the parameters of the pta: [B1855+09_ramp_log10_A:LinearExp(pmin=-17, pmax=-10), B1855+09_red_noise_gamma:Uniform(pmin=0, pmax=7), B1855+09_red_noise_log10_A:LinearExp(pmin=-17, pmax=-10), ramp_t0:Uniform(pmin=53538.72366848987, pmax=57195.72889084464)]\n",
      "Finished 10.00 percent in 120.750564 s Acceptance rate = 0.2158Adding DE jump with weight 0\n",
      "Finished 99.00 percent in 1206.928399 s Acceptance rate = 0.223303\n",
      "Run Complete\n",
      "Here are the parameters of the pta: [B1937+21_ramp_log10_A:LinearExp(pmin=-17, pmax=-10), B1937+21_red_noise_gamma:Uniform(pmin=0, pmax=7), B1937+21_red_noise_log10_A:LinearExp(pmin=-17, pmax=-10), ramp_t0:Uniform(pmin=53447.08924884693, pmax=57196.79511727041)]\n",
      "Finished 10.00 percent in 208.401231 s Acceptance rate = 0.16159Adding DE jump with weight 0\n",
      "Finished 99.00 percent in 2105.502023 s Acceptance rate = 0.216818\n",
      "Run Complete\n",
      "Here are the parameters of the pta: [B1937+21_ramp_log10_A:LinearExp(pmin=-17, pmax=-10), B1937+21_red_noise_gamma:Uniform(pmin=0, pmax=7), B1937+21_red_noise_log10_A:LinearExp(pmin=-17, pmax=-10), ramp_t0:Uniform(pmin=53447.08924884693, pmax=57196.79511727041)]\n",
      "Finished 10.00 percent in 192.999643 s Acceptance rate = 0.16741Adding DE jump with weight 0\n",
      "Finished 99.00 percent in 1871.389142 s Acceptance rate = 0.183808\n",
      "Run Complete\n",
      "Here are the parameters of the pta: [B1953+29_ramp_log10_A:LinearExp(pmin=-17, pmax=-10), B1953+29_red_noise_gamma:Uniform(pmin=0, pmax=7), B1953+29_red_noise_log10_A:LinearExp(pmin=-17, pmax=-10), ramp_t0:Uniform(pmin=55940.22822341733, pmax=57196.80731682209)]\n",
      "Finished 10.00 percent in 44.742401 s Acceptance rate = 0.36533Adding DE jump with weight 0\n",
      "Finished 99.00 percent in 418.876610 s Acceptance rate = 0.347018\n",
      "Run Complete\n",
      "Here are the parameters of the pta: [B1953+29_ramp_log10_A:LinearExp(pmin=-17, pmax=-10), B1953+29_red_noise_gamma:Uniform(pmin=0, pmax=7), B1953+29_red_noise_log10_A:LinearExp(pmin=-17, pmax=-10), ramp_t0:Uniform(pmin=55940.22822341733, pmax=57196.80731682209)]\n",
      "Finished 10.00 percent in 41.820532 s Acceptance rate = 0.34033Adding DE jump with weight 0\n",
      "Finished 99.00 percent in 417.784919 s Acceptance rate = 0.326596\n",
      "Run Complete\n",
      "Here are the parameters of the pta: [J0023+0923_ramp_log10_A:LinearExp(pmin=-17, pmax=-10), J0023+0923_red_noise_gamma:Uniform(pmin=0, pmax=7), J0023+0923_red_noise_log10_A:LinearExp(pmin=-17, pmax=-10), ramp_t0:Uniform(pmin=55938.347792841676, pmax=57195.954283703504)]\n",
      "Finished 10.00 percent in 125.305286 s Acceptance rate = 0.26643Adding DE jump with weight 0\n",
      "Finished 86.00 percent in 1090.083222 s Acceptance rate = 0.233867"
     ]
    }
   ],
   "source": [
    "for psr in allpsrs:\n",
    "    for sign in signs:\n",
    "        \n",
    "        outdir = \"/home/nima/nanograv/11yr_factlike/bayesian_verification/individual_pulsars_fixed_sign/{}_{}/\".format(psr.name, sign) \n",
    "        os.makedirs(outdir, exist_ok=True)\n",
    "        \n",
    "        t0min_sec = psr.toas.min() + 180*3600*24\n",
    "        t0max_sec = psr.toas.max() - 180*3600*24\n",
    "\n",
    "        t0min_mjd = t0min_sec/3600/24\n",
    "        t0max_mjd = t0max_sec/3600/24\n",
    "\n",
    "\n",
    "        t0 = parameter.Uniform(t0min_mjd, t0max_mjd)('ramp_t0')\n",
    "        \n",
    "\n",
    "        # This has \n",
    "        bwm_log10_As = parameter.LinearExp(-17, -10)\n",
    "\n",
    "\n",
    "        ramp_wf = ee_deterministic.bwm_sglpsr_delay(log10_A=bwm_log10_As, t0=t0, sign=parameter.Constant(sign)('sign'))\n",
    "        ramp = deterministic_signals.Deterministic(ramp_wf, name='ramp')\n",
    "\n",
    "        s = ee_blocks.red_noise_block(psd='powerlaw', prior='uniform', components=30,\n",
    "                                     logmin=-17, logmax=-10, Tspan=None)\n",
    "        s += ee_blocks.white_noise_block(vary=False, inc_ecorr=True)\n",
    "        s += ramp\n",
    "        s += gp_signals.TimingModel()\n",
    "\n",
    "        models = [s(psr)]\n",
    "        pta = signal_base.PTA(models)\n",
    "\n",
    "\n",
    "        print(\"Here are the parameters of the pta: {}\".format(pta.params))\n",
    "\n",
    "        pta.set_default_params(noisedict)\n",
    "        # Save the pta parameters and prior distributions\n",
    "        np.savetxt(outdir+'pars.txt',list(map(str, pta.param_names)), fmt='%s')\n",
    "        np.savetxt(outdir+'priors.txt',list(map(lambda x: str(x.__repr__()), pta.params)), fmt='%s')\n",
    "\n",
    "        x0 = np.hstack(p.sample() for p in pta.params)\n",
    "        ndim = len(x0)\n",
    "\n",
    "        # initial jump covariance matrix\n",
    "        cov = np.diag(np.ones(ndim) * 0.1**2)\n",
    "        sampler = ptmcmc(ndim, pta.get_lnlikelihood, pta.get_lnprior, cov,  outDir=outdir, resume=True)\n",
    "\n",
    "        jp = ee_sampler.JumpProposal(pta)\n",
    "        sampler.addProposalToCycle(jp.draw_from_prior, 30)\n",
    "\n",
    "        sampler.sample(x0, int(1e5), SCAMweight=30, AMweight=50, DEweight=0)"
   ]
  },
  {
   "cell_type": "code",
   "execution_count": null,
   "id": "abffe279",
   "metadata": {},
   "outputs": [],
   "source": []
  }
 ],
 "metadata": {
  "kernelspec": {
   "display_name": "Python 3 (ipykernel)",
   "language": "python",
   "name": "python3"
  },
  "language_info": {
   "codemirror_mode": {
    "name": "ipython",
    "version": 3
   },
   "file_extension": ".py",
   "mimetype": "text/x-python",
   "name": "python",
   "nbconvert_exporter": "python",
   "pygments_lexer": "ipython3",
   "version": "3.8.12"
  }
 },
 "nbformat": 4,
 "nbformat_minor": 5
}
