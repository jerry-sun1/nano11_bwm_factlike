{
 "cells": [
  {
   "cell_type": "code",
   "execution_count": null,
   "id": "f8461f01",
   "metadata": {},
   "outputs": [],
   "source": [
    "!$PATH"
   ]
  },
  {
   "cell_type": "code",
   "execution_count": 16,
   "id": "0dcd8f0e",
   "metadata": {},
   "outputs": [],
   "source": [
    "import numpy as np\n",
    "import glob, os, json\n",
    "import pickle\n",
    "\n",
    "import matplotlib.pyplot as plt\n",
    "import corner\n",
    "%matplotlib inline\n",
    "%config InlineBackend.figure_format = 'retina'\n",
    "\n",
    "import multiprocessing as mp\n",
    "\n",
    "import os, json\n",
    "import numpy as np\n",
    "import pandas as pd\n",
    "import matplotlib.pyplot as plt\n",
    "import healpy as hp\n",
    "import time\n",
    "import scipy\n",
    "import scipy.integrate as spint\n",
    "\n",
    "from corner import corner\n",
    "\n",
    "from astropy.time import Time\n",
    "from matplotlib.colors import LogNorm\n",
    "from matplotlib.colors import Normalize\n",
    "\n",
    "\n",
    "from enterprise.pulsar import Pulsar\n",
    "\n",
    "from la_forge.core import Core\n",
    "from la_forge.diagnostics import plot_chains\n",
    "\n",
    "nano11_pkl = '/home/nima/nanograv/11yr_factlike/NANOGrav_11yr_DE436.pickle'\n",
    "with open(nano11_pkl, 'rb') as f:\n",
    "    allpsrs=pickle.load(f)"
   ]
  },
  {
   "cell_type": "code",
   "execution_count": 2,
   "id": "4a16efc2",
   "metadata": {},
   "outputs": [
    {
     "name": "stderr",
     "output_type": "stream",
     "text": [
      "/home/nima/anaconda3/envs/nano15/lib/python3.8/_collections_abc.py:832: MatplotlibDeprecationWarning: Support for setting the 'text.latex.preamble' or 'pgf.preamble' rcParam to a list of strings is deprecated since 3.3 and will be removed two minor releases later; set it to a single string instead.\n",
      "  self[key] = other[key]\n"
     ]
    }
   ],
   "source": [
    "def figsize(scale):\n",
    "    fig_width_pt = 513.17 #469.755                  # Get this from LaTeX using \\the\\textwidth\n",
    "    inches_per_pt = 1.0/72.27                       # Convert pt to inch\n",
    "    #golden_mean = (np.sqrt(5.0)-1.0)/2.0            # Aesthetic ratio (you could change this)\n",
    "    golden_mean= 0.3333\n",
    "    fig_width = fig_width_pt*inches_per_pt*scale    # width in inches\n",
    "    fig_height = fig_width*golden_mean              # height in inches\n",
    "    fig_size = [fig_width,fig_height]\n",
    "    return fig_size\n",
    "plt.rcParams.update(plt.rcParamsDefault)\n",
    "\n",
    "params = {'backend': 'pdf',\n",
    "        'axes.labelsize': 10,\n",
    "        'lines.markersize': 4,\n",
    "        'font.size': 10,\n",
    "        'xtick.major.size':6,\n",
    "        'xtick.minor.size':3,  \n",
    "        'ytick.major.size':6,\n",
    "        'ytick.minor.size':3, \n",
    "        'xtick.major.width':0.5,\n",
    "        'ytick.major.width':0.5,\n",
    "        'xtick.minor.width':0.5,\n",
    "        'ytick.minor.width':0.5,\n",
    "        'lines.markeredgewidth':1,\n",
    "        'axes.linewidth':1.2,\n",
    "        'legend.fontsize': 7,\n",
    "        'xtick.labelsize': 10,\n",
    "        'ytick.labelsize': 10,\n",
    "        'savefig.dpi':200,\n",
    "        'path.simplify':True,\n",
    "        'font.family': 'serif',\n",
    "        #'font.serif':'Times',\n",
    "        'text.latex.preamble': [r'\\usepackage{amsmath}'],\n",
    "        'text.usetex':True,\n",
    "        'figure.figsize': figsize(0.98)}\n",
    "\n",
    "plt.rcParams.update(params)"
   ]
  },
  {
   "cell_type": "code",
   "execution_count": 7,
   "id": "25e0b5bb",
   "metadata": {
    "scrolled": true
   },
   "outputs": [
    {
     "name": "stdout",
     "output_type": "stream",
     "text": [
      "384\n",
      "expected 384 charts\n",
      "['0_0.txt', '0_1.txt', '0_2.txt', '0_3.txt', '0_4.txt', '0_5.txt', '0_6.txt', '0_7.txt', '10_0.txt', '10_1.txt', '10_2.txt', '10_3.txt', '10_4.txt', '10_5.txt', '10_6.txt', '10_7.txt', '11_0.txt', '11_1.txt', '11_2.txt', '11_3.txt', '11_4.txt', '11_5.txt', '11_6.txt', '11_7.txt', '12_0.txt', '12_1.txt', '12_2.txt', '12_3.txt', '12_4.txt', '12_5.txt', '12_6.txt', '12_7.txt', '13_0.txt', '13_1.txt', '13_2.txt', '13_3.txt', '13_4.txt', '13_5.txt', '13_6.txt', '13_7.txt', '14_0.txt', '14_1.txt', '14_2.txt', '14_3.txt', '14_4.txt', '14_5.txt', '14_6.txt', '14_7.txt', '15_0.txt', '15_1.txt', '15_2.txt', '15_3.txt', '15_4.txt', '15_5.txt', '15_6.txt', '15_7.txt', '16_0.txt', '16_1.txt', '16_2.txt', '16_3.txt', '16_4.txt', '16_5.txt', '16_6.txt', '16_7.txt', '17_0.txt', '17_1.txt', '17_2.txt', '17_3.txt', '17_4.txt', '17_5.txt', '17_6.txt', '17_7.txt', '18_0.txt', '18_1.txt', '18_2.txt', '18_3.txt', '18_4.txt', '18_5.txt', '18_6.txt', '18_7.txt', '19_0.txt', '19_1.txt', '19_2.txt', '19_3.txt', '19_4.txt', '19_5.txt', '19_6.txt', '19_7.txt', '1_0.txt', '1_1.txt', '1_2.txt', '1_3.txt', '1_4.txt', '1_5.txt', '1_6.txt', '1_7.txt', '20_0.txt', '20_1.txt', '20_2.txt', '20_3.txt', '20_4.txt', '20_5.txt', '20_6.txt', '20_7.txt', '21_0.txt', '21_1.txt', '21_2.txt', '21_3.txt', '21_4.txt', '21_5.txt', '21_6.txt', '21_7.txt', '22_0.txt', '22_1.txt', '22_2.txt', '22_3.txt', '22_4.txt', '22_5.txt', '22_6.txt', '22_7.txt', '23_0.txt', '23_1.txt', '23_2.txt', '23_3.txt', '23_4.txt', '23_5.txt', '23_6.txt', '23_7.txt', '24_0.txt', '24_1.txt', '24_2.txt', '24_3.txt', '24_4.txt', '24_5.txt', '24_6.txt', '24_7.txt', '25_0.txt', '25_1.txt', '25_2.txt', '25_3.txt', '25_4.txt', '25_5.txt', '25_6.txt', '25_7.txt', '26_0.txt', '26_1.txt', '26_2.txt', '26_3.txt', '26_4.txt', '26_5.txt', '26_6.txt', '26_7.txt', '27_0.txt', '27_1.txt', '27_2.txt', '27_3.txt', '27_4.txt', '27_5.txt', '27_6.txt', '27_7.txt', '28_0.txt', '28_1.txt', '28_2.txt', '28_3.txt', '28_4.txt', '28_5.txt', '28_6.txt', '28_7.txt', '29_0.txt', '29_1.txt', '29_2.txt', '29_3.txt', '29_4.txt', '29_5.txt', '29_6.txt', '29_7.txt', '2_0.txt', '2_1.txt', '2_2.txt', '2_3.txt', '2_4.txt', '2_5.txt', '2_6.txt', '2_7.txt', '30_0.txt', '30_1.txt', '30_2.txt', '30_3.txt', '30_4.txt', '30_5.txt', '30_6.txt', '30_7.txt', '31_0.txt', '31_1.txt', '31_2.txt', '31_3.txt', '31_4.txt', '31_5.txt', '31_6.txt', '31_7.txt', '32_0.txt', '32_1.txt', '32_2.txt', '32_3.txt', '32_4.txt', '32_5.txt', '32_6.txt', '32_7.txt', '33_0.txt', '33_1.txt', '33_2.txt', '33_3.txt', '33_4.txt', '33_5.txt', '33_6.txt', '33_7.txt', '34_0.txt', '34_1.txt', '34_2.txt', '34_3.txt', '34_4.txt', '34_5.txt', '34_6.txt', '34_7.txt', '35_0.txt', '35_1.txt', '35_2.txt', '35_3.txt', '35_4.txt', '35_5.txt', '35_6.txt', '35_7.txt', '36_0.txt', '36_1.txt', '36_2.txt', '36_3.txt', '36_4.txt', '36_5.txt', '36_6.txt', '36_7.txt', '37_0.txt', '37_1.txt', '37_2.txt', '37_3.txt', '37_4.txt', '37_5.txt', '37_6.txt', '37_7.txt', '38_0.txt', '38_1.txt', '38_2.txt', '38_3.txt', '38_4.txt', '38_5.txt', '38_6.txt', '38_7.txt', '39_0.txt', '39_1.txt', '39_2.txt', '39_3.txt', '39_4.txt', '39_5.txt', '39_6.txt', '39_7.txt', '3_0.txt', '3_1.txt', '3_2.txt', '3_3.txt', '3_4.txt', '3_5.txt', '3_6.txt', '3_7.txt', '40_0.txt', '40_1.txt', '40_2.txt', '40_3.txt', '40_4.txt', '40_5.txt', '40_6.txt', '40_7.txt', '41_0.txt', '41_1.txt', '41_2.txt', '41_3.txt', '41_4.txt', '41_5.txt', '41_6.txt', '41_7.txt', '42_0.txt', '42_1.txt', '42_2.txt', '42_3.txt', '42_4.txt', '42_5.txt', '42_6.txt', '42_7.txt', '43_0.txt', '43_1.txt', '43_2.txt', '43_3.txt', '43_4.txt', '43_5.txt', '43_6.txt', '43_7.txt', '44_0.txt', '44_1.txt', '44_2.txt', '44_3.txt', '44_4.txt', '44_5.txt', '44_6.txt', '44_7.txt', '45_0.txt', '45_1.txt', '45_2.txt', '45_3.txt', '45_4.txt', '45_5.txt', '45_6.txt', '45_7.txt', '46_0.txt', '46_1.txt', '46_2.txt', '46_3.txt', '46_4.txt', '46_5.txt', '46_6.txt', '46_7.txt', '47_0.txt', '47_1.txt', '47_2.txt', '47_3.txt', '47_4.txt', '47_5.txt', '47_6.txt', '47_7.txt', '4_0.txt', '4_1.txt', '4_2.txt', '4_3.txt', '4_4.txt', '4_5.txt', '4_6.txt', '4_7.txt', '5_0.txt', '5_1.txt', '5_2.txt', '5_3.txt', '5_4.txt', '5_5.txt', '5_6.txt', '5_7.txt', '6_0.txt', '6_1.txt', '6_2.txt', '6_3.txt', '6_4.txt', '6_5.txt', '6_6.txt', '6_7.txt', '7_0.txt', '7_1.txt', '7_2.txt', '7_3.txt', '7_4.txt', '7_5.txt', '7_6.txt', '7_7.txt', '8_0.txt', '8_1.txt', '8_2.txt', '8_3.txt', '8_4.txt', '8_5.txt', '8_6.txt', '8_7.txt', '9_0.txt', '9_1.txt', '9_2.txt', '9_3.txt', '9_4.txt', '9_5.txt', '9_6.txt', '9_7.txt']\n"
     ]
    }
   ],
   "source": [
    "chartdir= '/home/nima/nanograv/11yr_factlike/ULvT_charts_ignore_epoch/'\n",
    "charts=sorted(os.listdir(chartdir))[:-2]\n",
    "print(len(charts))\n",
    "print(\"expected {} charts\".format(48*8))\n",
    "\n",
    "print(charts)"
   ]
  },
  {
   "cell_type": "code",
   "execution_count": 9,
   "id": "f8fec67b",
   "metadata": {},
   "outputs": [],
   "source": [
    "skypixs = np.arange(hp.nside2npix(2))\n",
    "npix = hp.nside2npix(2)\n",
    "bwm_pols = np.arange(0, np.pi, np.pi/8)\n",
    "amps = np.linspace(-17,-10,70, endpoint=True)\n",
    "nano11_Ts = np.linspace(53216.13175403874+180,57387.78760427694-180, 134, endpoint=True)"
   ]
  },
  {
   "cell_type": "code",
   "execution_count": 36,
   "id": "852a8ea6",
   "metadata": {},
   "outputs": [],
   "source": [
    "import random\n",
    "\n",
    "def compute_ul95(distribution, domain):    \n",
    "    hires_domain = np.linspace(domain[0], domain[-1], int(len(domain)*100))\n",
    "    interpolator = scipy.interpolate.interp1d(domain, distribution, kind='cubic')\n",
    "    hires_integrand = interpolator(hires_domain)\n",
    "    full_integral = spint.simpson(hires_integrand,x=hires_domain)\n",
    "    \n",
    "    domain_idx = 0\n",
    "    running_integrand = spint.simpson(hires_integrand[domain_idx:domain_idx+2], x=hires_domain[domain_idx:domain_idx+2])\n",
    "    while running_integrand/full_integral < 0.95:\n",
    "        domain_idx += 2\n",
    "        running_integrand = spint.simpson(hires_integrand[0:domain_idx+1], x=hires_domain[0:domain_idx+1])\n",
    "    \n",
    "    if spint.simpson(hires_integrand[0:domain_idx],x=hires_domain[0:domain_idx])/full_integral > 0.95:\n",
    "        return hires_domain[domain_idx-1]\n",
    "    else:\n",
    "        return hires_domain[domain_idx]\n",
    "\n",
    "def sample_hist(weights, centers, num_points=int(1e5), sample_bounds=None, verbose=False):\n",
    "    #make sure the weights are properly normalized\n",
    "    #print(weights)\n",
    "    #print(centers)\n",
    "    norm = np.sum(weights)\n",
    "    normed_weights = weights/norm\n",
    "    #print(normed_weights)\n",
    "    \n",
    "    #go through weights and see if there are lower and upper bounds. This will speed up resampling\n",
    "    \n",
    "            \n",
    "            \n",
    "    #print(\"lower, upper bounds are: {} and {}\\nthe likelihoods between are {}:\".format(lower, upper, normed_weights[lower:upper]))    \n",
    "    \n",
    "    \n",
    "    accepted = 0\n",
    "    \n",
    "    resampled_chain = []    \n",
    "    likelihood_interp = scipy.interpolate.interp1d(centers, normed_weights)\n",
    "    if sample_bounds is None:\n",
    "        while accepted < num_points:\n",
    "            amp = random.uniform(centers[0], centers[-1])\n",
    "            #print(\"trying amplitude: {}\".format(amp))\n",
    "\n",
    "            likelihood = likelihood_interp(amp)\n",
    "            #print(likelihood)\n",
    "            #print(\"likelihood of amp = {}\".format(likelihood))\n",
    "            if random.random() < likelihood:\n",
    "                accepted+=1\n",
    "                if accepted/num_points % 0.02 == 0 and verbose:\n",
    "                    print(\"completed {}%\".format(accepted/num_points * 100))\n",
    "                resampled_chain.append(amp)\n",
    "    else:\n",
    "        while accepted < num_points:\n",
    "            amp = random.uniform(sample_bounds[0], sample_bounds[1])\n",
    "            #print(\"trying amplitude: {}\".format(amp))\n",
    "\n",
    "            likelihood = likelihood_interp(amp)\n",
    "            #print(likelihood)\n",
    "            #print(\"likelihood of amp = {}\".format(likelihood))\n",
    "            if random.random() < likelihood:\n",
    "                accepted+=1\n",
    "                if accepted/num_points % 0.02 == 0 and verbose:\n",
    "                    print(\"completed {}%\".format(accepted/num_points * 100))\n",
    "                resampled_chain.append(amp)\n",
    "\n",
    "        \n",
    "    #print(sorted(resampled_chain))\n",
    "    return sorted(resampled_chain)"
   ]
  },
  {
   "cell_type": "code",
   "execution_count": 37,
   "id": "943e1e32",
   "metadata": {},
   "outputs": [],
   "source": [
    "# Let's make a worker function that does this for a particular epoch and multiprocessify this\n",
    "\n",
    "def epoch_sample_worker(epoch_idx):\n",
    "    this_epoch_samples = [] #this should be a list of amplitudes\n",
    "    outf = '/home/nima/nanograv/11yr_factlike/ULvT_charts_ignore_epoch/epoch_samples/{}.txt'.format(epoch_idx)\n",
    "    chartdir = '/home/nima/nanograv/11yr_factlike/ULvT_charts_ignore_epoch/'\n",
    "    for pol_idx, pol in enumerate(bwm_pols):\n",
    "        for skypix in range(npix):\n",
    "            chart = np.loadtxt(chartdir + '{}_{}.txt'.format(skypix, pol_idx))\n",
    "            epoch_max = np.amax(chart[:, epoch_idx])\n",
    "            \n",
    "            # we want to get the weights/centers for the amplitudes\n",
    "            logweights = np.zeros(len(amps))\n",
    "            for amp_idx in range(len(logweights)):\n",
    "                like = np.exp(chart[amp_idx, epoch_idx] - epoch_max) \n",
    "                logweights[amp_idx] = np.log(like) + epoch_max\n",
    "                #reweight so that we have uniform priors in the bwm_amplitude\n",
    "            #plt.close(\"all\")\n",
    "            #plt.xscale('log')\n",
    "            #plt.plot(amps, weights)\n",
    "            #plt.show()\n",
    "            # Now we need to build weights from logweights\n",
    "            weights=np.zeros(len(amps))\n",
    "            \n",
    "            maxlogweight = np.amax(logweights)\n",
    "            for logweight_idx, logweight in enumerate(logweights):\n",
    "                weights[logweight_idx] = 10**amps[logweight_idx] * np.exp(logweight - maxlogweight)\n",
    "            '''\n",
    "            plt.close(\"all\")\n",
    "            plt.xscale('log')\n",
    "            plt.plot(amps, weights)\n",
    "            plt.show()\n",
    "            '''\n",
    "            \n",
    "            #now we can resample and add the elements of the chain to this epochs samples.\n",
    "            sampled = sample_hist(weights, amps, num_points=120, sample_bounds=[-17,-10])\n",
    "\n",
    "\n",
    "            #now we just want to dump this into this_epoch_samples\n",
    "            for el in sampled:\n",
    "                this_epoch_samples.append(el)  \n",
    "    \n",
    "    #Now we've resampled this entire time bin for every source location\n",
    "    #let's just plot some for now\n",
    "    plt.close(\"all\")\n",
    "    plt.hist(this_epoch_samples,histtype='step',bins=30 )\n",
    "    plt.title(\"Histogram for epoch {}\".format(epoch_idx))\n",
    "    plt.show()\n",
    "    \n",
    "    np.savetxt(outf, this_epoch_samples)\n",
    "    "
   ]
  },
  {
   "cell_type": "code",
   "execution_count": 38,
   "id": "3c20a5de",
   "metadata": {},
   "outputs": [],
   "source": [
    "def ul95_worker(epoch_idx):\n",
    "    this_epoch_samples = [] #this should be a list of amplitudes\n",
    "    outf = '/home/nima/nanograv/11yr_factlike/ULvT_charts_ignore_epoch/epoch_samples/{}.txt'.format(epoch_idx)\n",
    "    chartdir = '/home/nima/nanograv/11yr_factlike/ULvT_charts_ignore_epoch/'\n",
    "    for pol_idx, pol in enumerate(bwm_pols):\n",
    "        for skypix in range(npix):\n",
    "            chart = np.loadtxt(chartdir + '{}_{}.txt'.format(skypix, pol_idx))\n",
    "            epoch_max = np.amax(chart[:, epoch_idx])\n",
    "            \n",
    "            # we want to get the weights/centers for the amplitudes\n",
    "            logweights = np.zeros(len(amps))\n",
    "            for amp_idx in range(len(logweights)):\n",
    "                like = np.exp(chart[amp_idx, epoch_idx] - epoch_max) \n",
    "                logweights[amp_idx] = np.log(like) + epoch_max\n",
    "                #reweight so that we have uniform priors in the bwm_amplitude\n",
    "            #plt.close(\"all\")\n",
    "            #plt.xscale('log')\n",
    "            #plt.plot(amps, weights)\n",
    "            #plt.show()\n",
    "            # Now we need to build weights from logweights\n",
    "            weights=np.zeros(len(amps))\n",
    "            \n",
    "            maxlogweight = np.amax(logweights)\n",
    "            for logweight_idx, logweight in enumerate(logweights):\n",
    "                weights[logweight_idx] = 10**amps[logweight_idx] * np.exp(logweight - maxlogweight)\n",
    "            '''\n",
    "            plt.close(\"all\")\n",
    "            plt.xscale('log')\n",
    "            plt.plot(amps, weights)\n",
    "            plt.show()\n",
    "            '''\n",
    "    ul95 = compute_ul95(weights, amps)\n",
    "    print(\"Done with epoch {}\".format(epoch_idx))\n",
    "    return ul95\n",
    "    \n",
    "    "
   ]
  },
  {
   "cell_type": "code",
   "execution_count": 39,
   "id": "20502c07",
   "metadata": {
    "scrolled": true
   },
   "outputs": [],
   "source": [
    "# Now obsolete, faster way to compute ul95s\n",
    "#pool=mp.Pool(processes=15)\n",
    "#pool.map(epoch_sample_worker, np.arange(len(nano11_Ts)))"
   ]
  },
  {
   "cell_type": "code",
   "execution_count": null,
   "id": "477a86ca",
   "metadata": {},
   "outputs": [
    {
     "name": "stdout",
     "output_type": "stream",
     "text": [
      "Done with epoch 0\n",
      "Done with epoch 1\n"
     ]
    },
    {
     "name": "stderr",
     "output_type": "stream",
     "text": [
      "/tmp/ipykernel_12447/3534036268.py:14: RuntimeWarning: divide by zero encountered in log\n",
      "  logweights[amp_idx] = np.log(like) + epoch_max\n"
     ]
    },
    {
     "name": "stdout",
     "output_type": "stream",
     "text": [
      "Done with epoch 2\n",
      "Done with epoch 3\n",
      "Done with epoch 4\n",
      "Done with epoch 5\n",
      "Done with epoch 6\n",
      "Done with epoch 7\n",
      "Done with epoch 8\n",
      "Done with epoch 9\n",
      "Done with epoch 10\n",
      "Done with epoch 11\n",
      "Done with epoch 12\n",
      "Done with epoch 13\n",
      "Done with epoch 14\n",
      "Done with epoch 15\n",
      "Done with epoch 16\n",
      "Done with epoch 17\n",
      "Done with epoch 18\n",
      "Done with epoch 19\n",
      "Done with epoch 20\n",
      "Done with epoch 21\n",
      "Done with epoch 22\n",
      "Done with epoch 23\n",
      "Done with epoch 24\n",
      "Done with epoch 25\n",
      "Done with epoch 26\n",
      "Done with epoch 27\n",
      "Done with epoch 28\n",
      "Done with epoch 29\n",
      "Done with epoch 30\n",
      "Done with epoch 31\n",
      "Done with epoch 32\n",
      "Done with epoch 33\n",
      "Done with epoch 34\n",
      "Done with epoch 35\n",
      "Done with epoch 36\n",
      "Done with epoch 37\n",
      "Done with epoch 38\n",
      "Done with epoch 39\n",
      "Done with epoch 40\n",
      "Done with epoch 41\n",
      "Done with epoch 42\n",
      "Done with epoch 43\n",
      "Done with epoch 44\n",
      "Done with epoch 45\n",
      "Done with epoch 46\n",
      "Done with epoch 47\n",
      "Done with epoch 48\n",
      "Done with epoch 49\n",
      "Done with epoch 50\n",
      "Done with epoch 51\n",
      "Done with epoch 52\n",
      "Done with epoch 53\n",
      "Done with epoch 54\n",
      "Done with epoch 55\n",
      "Done with epoch 56\n",
      "Done with epoch 57\n",
      "Done with epoch 58\n",
      "Done with epoch 59\n",
      "Done with epoch 60\n",
      "Done with epoch 61\n",
      "Done with epoch 62\n",
      "Done with epoch 63\n",
      "Done with epoch 64\n",
      "Done with epoch 65\n",
      "Done with epoch 66\n",
      "Done with epoch 67\n",
      "Done with epoch 68\n",
      "Done with epoch 69\n",
      "Done with epoch 70\n",
      "Done with epoch 71\n",
      "Done with epoch 72\n",
      "Done with epoch 73\n",
      "Done with epoch 74\n",
      "Done with epoch 75\n",
      "Done with epoch 76\n",
      "Done with epoch 77\n",
      "Done with epoch 78\n",
      "Done with epoch 79\n",
      "Done with epoch 80\n",
      "Done with epoch 81\n",
      "Done with epoch 82\n",
      "Done with epoch 83\n",
      "Done with epoch 84\n",
      "Done with epoch 85\n",
      "Done with epoch 86\n",
      "Done with epoch 87\n",
      "Done with epoch 88\n",
      "Done with epoch 89\n",
      "Done with epoch 90\n",
      "Done with epoch 91\n",
      "Done with epoch 92\n",
      "Done with epoch 93\n",
      "Done with epoch 94\n",
      "Done with epoch 95\n",
      "Done with epoch 96\n",
      "Done with epoch 97\n",
      "Done with epoch 98\n",
      "Done with epoch 99\n",
      "Done with epoch 100\n",
      "Done with epoch 101\n",
      "Done with epoch 102\n",
      "Done with epoch 103\n",
      "Done with epoch 104\n",
      "Done with epoch 105\n",
      "Done with epoch 106\n",
      "Done with epoch 107\n",
      "Done with epoch 108\n",
      "Done with epoch 109\n",
      "Done with epoch 110\n",
      "Done with epoch 111\n",
      "Done with epoch 112\n",
      "Done with epoch 113\n"
     ]
    }
   ],
   "source": [
    "ul95s = np.zeros(len(nano11_Ts))\n",
    "for ii,epoch in enumerate(nano11_Ts):\n",
    "    ul95s[ii] = ul95_worker(ii)\n",
    "    "
   ]
  },
  {
   "cell_type": "code",
   "execution_count": null,
   "id": "0dec55ea",
   "metadata": {},
   "outputs": [],
   "source": [
    "ULvT = ul95s"
   ]
  },
  {
   "cell_type": "code",
   "execution_count": null,
   "id": "a442c0bc",
   "metadata": {
    "scrolled": true
   },
   "outputs": [],
   "source": [
    "# OBSOLETE SINCE WE DO IT FASTER NOW\n",
    "# histdir = '/home/nima/nanograv/11yr_factlike/ULvT_charts_ignore_epoch/epoch_samples/'\n",
    "# ULvT = np.zeros(len(nano11_Ts))\n",
    "# for epoch_idx, epoch in enumerate(nano11_Ts):\n",
    "#     hist = sorted(np.loadtxt(histdir + \"{}.txt\".format(epoch_idx)))\n",
    "#     plt.hist(hist,histtype='step', bins=30)\n",
    "\n",
    "#     ul95_idx = int(0.95*len(hist))\n",
    "    \n",
    "#     ULvT[epoch_idx] = hist[ul95_idx]\n",
    "#     plt.axvline(x=hist[ul95_idx], color='tab:orange', linestyle='--',)\n",
    "#     plt.title(\"Histogram for epoch {}\\nUL95 = {:.02f}\".format(epoch_idx, hist[ul95_idx]))\n",
    "#     plt.show()\n",
    "    \n",
    "\n",
    "    "
   ]
  },
  {
   "cell_type": "code",
   "execution_count": null,
   "id": "fc87d1d3",
   "metadata": {},
   "outputs": [],
   "source": [
    "plt.plot(ULvT)\n",
    "plt.show()"
   ]
  },
  {
   "cell_type": "code",
   "execution_count": null,
   "id": "28ba18cf",
   "metadata": {},
   "outputs": [],
   "source": [
    "#Load pauls data and see what's up"
   ]
  },
  {
   "cell_type": "code",
   "execution_count": null,
   "id": "3e7622c3",
   "metadata": {},
   "outputs": [],
   "source": [
    "# binned by source orientation reruns\n",
    "with open('/home/nima/nanograv/11yr/postproc_nb/11yr_bwm_paper_data/ULs.json', 'r') as fin:\n",
    "    ULmarg = json.load(fin)\n",
    "\n",
    "key = 'DE430'\n",
    "ULs_430 = [x[1] for x in ULmarg[key]]\n",
    "low_430 = [x[1]-x[2] for x in ULmarg[key]]\n",
    "high_430 = [x[1]+x[2] for x in ULmarg[key]]\n",
    "\n",
    "key = 'DE436'\n",
    "ULs_436 = [x[1] for x in ULmarg[key]]\n",
    "low_436 = [x[1]-x[2] for x in ULmarg[key]]\n",
    "high_436 = [x[1]+x[2] for x in ULmarg[key]]\n",
    "\n",
    "key = 'DE436_BE'\n",
    "ULs_BE = [x[1] for x in ULmarg[key]]\n",
    "low_BE = [x[1]-x[2] for x in ULmarg[key]]\n",
    "high_BE = [x[1]+x[2] for x in ULmarg[key]]\n",
    "\n",
    "T11 = [x[0] for x in ULmarg[key]]\n",
    "#T11 = Time(T11, format='mjd').decimalyear\n",
    "\n",
    "\n",
    "# use BayesEphem for Rate ULs\n",
    "key = 'DE436_BE'\n",
    "UL_11 = np.array(ULmarg[key]).T"
   ]
  },
  {
   "cell_type": "code",
   "execution_count": null,
   "id": "519e5940",
   "metadata": {
    "scrolled": true
   },
   "outputs": [],
   "source": [
    "plt.plot(T11, np.log10(ULs_436), label='DE436 MCMC', color = 'tab:blue')\n",
    "#plt.plot(T11, np.log10(ULs_430), label='DE430 MCMC')\n",
    "#plt.plot(T11, np.log10(ULs_BE), label='BayesEphem MCMC')\n",
    "plt.plot(nano11_Ts, ULvT, label='DE436 Lookup', color='tab:red')\n",
    "\n",
    "plt.legend()\n",
    "plt.title(\"UL vs Epoch\")\n",
    "plt.ylabel(\"$\\log_{10} A^{95\\%}$\")\n",
    "plt.xlabel('Epoch (MJD)')\n",
    "plt.legend(loc='upper right')\n",
    "\n",
    "plt.show()"
   ]
  },
  {
   "cell_type": "code",
   "execution_count": null,
   "id": "5a71eb77",
   "metadata": {},
   "outputs": [],
   "source": [
    "allpsrs[0]"
   ]
  },
  {
   "cell_type": "code",
   "execution_count": null,
   "id": "4d0abfe7",
   "metadata": {},
   "outputs": [],
   "source": [
    "import scipy\n",
    "pauls_interp = scipy.interpolate.interp1d(T11, ULs_436)\n",
    "my_interp = scipy.interpolate.interp1d(nano11_Ts, ULvT)"
   ]
  },
  {
   "cell_type": "code",
   "execution_count": null,
   "id": "2369e137",
   "metadata": {},
   "outputs": [],
   "source": [
    "UL_pct_diffs = []\n",
    "for epoch in nano11_Ts:\n",
    "    diff = 100*(my_interp(epoch) - pauls_interp(epoch))/np.abs(pauls_interp(epoch))\n",
    "    UL_pct_diffs.append(diff)\n",
    "\n",
    "plt.plot(nano11_Ts, UL_pct_diffs)\n",
    "plt.title('Upper Limit % Difference \\n(DE436 MCMC - DE436 Lookup)')\n",
    "plt.xlabel(\"Burst Epoch (MJD)\")\n",
    "plt.ylabel(\"% Diff\")\n"
   ]
  },
  {
   "cell_type": "code",
   "execution_count": null,
   "id": "880adbf1",
   "metadata": {},
   "outputs": [],
   "source": [
    "plt.hist(UL_pct_diffs, bins=20)"
   ]
  },
  {
   "cell_type": "code",
   "execution_count": null,
   "id": "64fcd708",
   "metadata": {},
   "outputs": [],
   "source": [
    "plt.legend()"
   ]
  },
  {
   "cell_type": "markdown",
   "id": "edf134bc",
   "metadata": {},
   "source": [
    "# Check out the chains where we just sort of ignore some epochs"
   ]
  },
  {
   "cell_type": "code",
   "execution_count": 26,
   "id": "82891612",
   "metadata": {},
   "outputs": [],
   "source": [
    "ignored_epochs_epochsamples = '/home/nima/nanograv/11yr_factlike/ULvT_charts_ignore_epoch/epoch_samples/'\n",
    "files = os.listdir(ignored_epochs_epochsamples)\n",
    "epochs = []\n",
    "for f in files:\n",
    "    epochs.append(nano11_Ts[int(f.replace('.txt',''))])"
   ]
  },
  {
   "cell_type": "code",
   "execution_count": 27,
   "id": "3cedca30",
   "metadata": {},
   "outputs": [],
   "source": [
    "ULs = np.zeros(len(epochs))\n",
    "for fidx, f in enumerate(files):\n",
    "    resampled = sorted(np.loadtxt(ignored_epochs_epochsamples + f))\n",
    "    ULs[fidx] = resampled[int(0.95 * len(resampled))]"
   ]
  },
  {
   "cell_type": "code",
   "execution_count": 28,
   "id": "bdd552b4",
   "metadata": {},
   "outputs": [
    {
     "data": {
      "text/plain": [
       "<matplotlib.collections.PathCollection at 0x7f14039fa550>"
      ]
     },
     "execution_count": 28,
     "metadata": {},
     "output_type": "execute_result"
    }
   ],
   "source": [
    "plt.scatter(epochs, ULs)\n",
    "plt.scatter(T11, np.log10(ULs_436), label='DE436 MCMC', color = 'tab:red')"
   ]
  },
  {
   "cell_type": "code",
   "execution_count": 29,
   "id": "14db8f3f",
   "metadata": {},
   "outputs": [
    {
     "data": {
      "image/png": "[encoded data removed]",
      "text/plain": [
       "<Figure size 695.872x231.934 with 1 Axes>"
      ]
     },
     "metadata": {
      "image/png": {
       "height": 224,
       "width": 597
      }
     },
     "output_type": "display_data"
    }
   ],
   "source": [
    "plt.show()"
   ]
  },
  {
   "cell_type": "code",
   "execution_count": null,
   "id": "8c1a86ce",
   "metadata": {},
   "outputs": [],
   "source": []
  }
 ],
 "metadata": {
  "kernelspec": {
   "display_name": "Python 3 (ipykernel)",
   "language": "python",
   "name": "python3"
  },
  "language_info": {
   "codemirror_mode": {
    "name": "ipython",
    "version": 3
   },
   "file_extension": ".py",
   "mimetype": "text/x-python",
   "name": "python",
   "nbconvert_exporter": "python",
   "pygments_lexer": "ipython3",
   "version": "3.8.12"
  }
 },
 "nbformat": 4,
 "nbformat_minor": 5
}
